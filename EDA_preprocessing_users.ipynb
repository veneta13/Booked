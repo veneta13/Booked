{
 "cells": [
  {
   "cell_type": "code",
   "id": "initial_id",
   "metadata": {
    "collapsed": true,
    "ExecuteTime": {
     "end_time": "2024-06-24T19:18:26.361334Z",
     "start_time": "2024-06-24T19:18:25.914795Z"
    }
   },
   "source": [
    "import pandas as pd\n",
    "from matplotlib import pyplot as plt"
   ],
   "outputs": [],
   "execution_count": 1
  },
  {
   "metadata": {
    "ExecuteTime": {
     "end_time": "2024-06-24T19:18:26.466371Z",
     "start_time": "2024-06-24T19:18:26.362345Z"
    }
   },
   "cell_type": "code",
   "source": "df = pd.read_csv('data/raw_data/users.csv')",
   "id": "87b484d46de67e54",
   "outputs": [],
   "execution_count": 2
  },
  {
   "metadata": {
    "ExecuteTime": {
     "end_time": "2024-06-24T19:18:26.475757Z",
     "start_time": "2024-06-24T19:18:26.466881Z"
    }
   },
   "cell_type": "code",
   "source": "df",
   "id": "b937d45933e8e460",
   "outputs": [
    {
     "data": {
      "text/plain": [
       "        User-ID                            Location   Age\n",
       "0             1                  nyc, new york, usa   NaN\n",
       "1             2           stockton, california, usa  18.0\n",
       "2             3     moscow, yukon territory, russia   NaN\n",
       "3             4           porto, v.n.gaia, portugal  17.0\n",
       "4             5  farnborough, hants, united kingdom   NaN\n",
       "...         ...                                 ...   ...\n",
       "278853   278854               portland, oregon, usa   NaN\n",
       "278854   278855  tacoma, washington, united kingdom  50.0\n",
       "278855   278856           brampton, ontario, canada   NaN\n",
       "278856   278857           knoxville, tennessee, usa   NaN\n",
       "278857   278858                dublin, n/a, ireland   NaN\n",
       "\n",
       "[278858 rows x 3 columns]"
      ],
      "text/html": [
       "<div>\n",
       "<style scoped>\n",
       "    .dataframe tbody tr th:only-of-type {\n",
       "        vertical-align: middle;\n",
       "    }\n",
       "\n",
       "    .dataframe tbody tr th {\n",
       "        vertical-align: top;\n",
       "    }\n",
       "\n",
       "    .dataframe thead th {\n",
       "        text-align: right;\n",
       "    }\n",
       "</style>\n",
       "<table border=\"1\" class=\"dataframe\">\n",
       "  <thead>\n",
       "    <tr style=\"text-align: right;\">\n",
       "      <th></th>\n",
       "      <th>User-ID</th>\n",
       "      <th>Location</th>\n",
       "      <th>Age</th>\n",
       "    </tr>\n",
       "  </thead>\n",
       "  <tbody>\n",
       "    <tr>\n",
       "      <th>0</th>\n",
       "      <td>1</td>\n",
       "      <td>nyc, new york, usa</td>\n",
       "      <td>NaN</td>\n",
       "    </tr>\n",
       "    <tr>\n",
       "      <th>1</th>\n",
       "      <td>2</td>\n",
       "      <td>stockton, california, usa</td>\n",
       "      <td>18.0</td>\n",
       "    </tr>\n",
       "    <tr>\n",
       "      <th>2</th>\n",
       "      <td>3</td>\n",
       "      <td>moscow, yukon territory, russia</td>\n",
       "      <td>NaN</td>\n",
       "    </tr>\n",
       "    <tr>\n",
       "      <th>3</th>\n",
       "      <td>4</td>\n",
       "      <td>porto, v.n.gaia, portugal</td>\n",
       "      <td>17.0</td>\n",
       "    </tr>\n",
       "    <tr>\n",
       "      <th>4</th>\n",
       "      <td>5</td>\n",
       "      <td>farnborough, hants, united kingdom</td>\n",
       "      <td>NaN</td>\n",
       "    </tr>\n",
       "    <tr>\n",
       "      <th>...</th>\n",
       "      <td>...</td>\n",
       "      <td>...</td>\n",
       "      <td>...</td>\n",
       "    </tr>\n",
       "    <tr>\n",
       "      <th>278853</th>\n",
       "      <td>278854</td>\n",
       "      <td>portland, oregon, usa</td>\n",
       "      <td>NaN</td>\n",
       "    </tr>\n",
       "    <tr>\n",
       "      <th>278854</th>\n",
       "      <td>278855</td>\n",
       "      <td>tacoma, washington, united kingdom</td>\n",
       "      <td>50.0</td>\n",
       "    </tr>\n",
       "    <tr>\n",
       "      <th>278855</th>\n",
       "      <td>278856</td>\n",
       "      <td>brampton, ontario, canada</td>\n",
       "      <td>NaN</td>\n",
       "    </tr>\n",
       "    <tr>\n",
       "      <th>278856</th>\n",
       "      <td>278857</td>\n",
       "      <td>knoxville, tennessee, usa</td>\n",
       "      <td>NaN</td>\n",
       "    </tr>\n",
       "    <tr>\n",
       "      <th>278857</th>\n",
       "      <td>278858</td>\n",
       "      <td>dublin, n/a, ireland</td>\n",
       "      <td>NaN</td>\n",
       "    </tr>\n",
       "  </tbody>\n",
       "</table>\n",
       "<p>278858 rows × 3 columns</p>\n",
       "</div>"
      ]
     },
     "execution_count": 3,
     "metadata": {},
     "output_type": "execute_result"
    }
   ],
   "execution_count": 3
  },
  {
   "metadata": {
    "ExecuteTime": {
     "end_time": "2024-06-24T19:18:26.488244Z",
     "start_time": "2024-06-24T19:18:26.476361Z"
    }
   },
   "cell_type": "code",
   "source": "df.info()",
   "id": "58064686cf39ab87",
   "outputs": [
    {
     "name": "stdout",
     "output_type": "stream",
     "text": [
      "<class 'pandas.core.frame.DataFrame'>\n",
      "RangeIndex: 278858 entries, 0 to 278857\n",
      "Data columns (total 3 columns):\n",
      " #   Column    Non-Null Count   Dtype  \n",
      "---  ------    --------------   -----  \n",
      " 0   User-ID   278858 non-null  int64  \n",
      " 1   Location  278858 non-null  object \n",
      " 2   Age       168096 non-null  float64\n",
      "dtypes: float64(1), int64(1), object(1)\n",
      "memory usage: 6.4+ MB\n"
     ]
    }
   ],
   "execution_count": 4
  },
  {
   "metadata": {
    "ExecuteTime": {
     "end_time": "2024-06-24T19:18:26.552361Z",
     "start_time": "2024-06-24T19:18:26.489289Z"
    }
   },
   "cell_type": "code",
   "source": [
    "def extract_country(location):\n",
    "    return location.split(',')[-1].strip()\n",
    "\n",
    "df['Country'] = df['Location'].apply(extract_country)"
   ],
   "id": "15b67443b47cd79e",
   "outputs": [],
   "execution_count": 5
  },
  {
   "metadata": {
    "ExecuteTime": {
     "end_time": "2024-06-24T19:18:26.570627Z",
     "start_time": "2024-06-24T19:18:26.552361Z"
    }
   },
   "cell_type": "code",
   "source": "df[\"Country\"].value_counts(normalize=True)",
   "id": "28dff6cb4af94b57",
   "outputs": [
    {
     "data": {
      "text/plain": [
       "Country\n",
       "usa                0.501011\n",
       "canada             0.077667\n",
       "united kingdom     0.066478\n",
       "germany            0.061117\n",
       "spain              0.047146\n",
       "                     ...   \n",
       "19104              0.000004\n",
       "minnehaha          0.000004\n",
       "de                 0.000004\n",
       "china öð¹ú         0.000004\n",
       "united kingdom.    0.000004\n",
       "Name: proportion, Length: 709, dtype: float64"
      ]
     },
     "execution_count": 6,
     "metadata": {},
     "output_type": "execute_result"
    }
   ],
   "execution_count": 6
  },
  {
   "metadata": {
    "ExecuteTime": {
     "end_time": "2024-06-24T19:18:26.585098Z",
     "start_time": "2024-06-24T19:18:26.570627Z"
    }
   },
   "cell_type": "code",
   "source": "dict(df.Country.value_counts()[:50]).keys()",
   "id": "5db68deeab14e2fb",
   "outputs": [
    {
     "data": {
      "text/plain": [
       "dict_keys(['usa', 'canada', 'united kingdom', 'germany', 'spain', 'australia', 'italy', '', 'france', 'portugal', 'new zealand', 'netherlands', 'switzerland', 'brazil', 'china', 'sweden', 'india', 'austria', 'malaysia', 'argentina', 'singapore', 'finland', 'mexico', 'belgium', 'denmark', 'ireland', 'philippines', 'turkey', 'poland', 'pakistan', 'greece', 'iran', 'chile', 'romania', 'israel', 'south africa', 'indonesia', 'norway', 'japan', 'croatia', 'nigeria', 'south korea', 'slovakia', 'czech republic', 'russia', 'yugoslavia', 'hong kong', 'costa rica', 'taiwan', 'slovenia'])"
      ]
     },
     "execution_count": 7,
     "metadata": {},
     "output_type": "execute_result"
    }
   ],
   "execution_count": 7
  },
  {
   "metadata": {
    "ExecuteTime": {
     "end_time": "2024-06-24T19:18:26.604526Z",
     "start_time": "2024-06-24T19:18:26.585098Z"
    }
   },
   "cell_type": "code",
   "source": [
    "popular_countries = list(dict(df.Country.value_counts()[:50]).keys())\n",
    "popular_countries"
   ],
   "id": "45bf5d544e58786",
   "outputs": [
    {
     "data": {
      "text/plain": [
       "['usa',\n",
       " 'canada',\n",
       " 'united kingdom',\n",
       " 'germany',\n",
       " 'spain',\n",
       " 'australia',\n",
       " 'italy',\n",
       " '',\n",
       " 'france',\n",
       " 'portugal',\n",
       " 'new zealand',\n",
       " 'netherlands',\n",
       " 'switzerland',\n",
       " 'brazil',\n",
       " 'china',\n",
       " 'sweden',\n",
       " 'india',\n",
       " 'austria',\n",
       " 'malaysia',\n",
       " 'argentina',\n",
       " 'singapore',\n",
       " 'finland',\n",
       " 'mexico',\n",
       " 'belgium',\n",
       " 'denmark',\n",
       " 'ireland',\n",
       " 'philippines',\n",
       " 'turkey',\n",
       " 'poland',\n",
       " 'pakistan',\n",
       " 'greece',\n",
       " 'iran',\n",
       " 'chile',\n",
       " 'romania',\n",
       " 'israel',\n",
       " 'south africa',\n",
       " 'indonesia',\n",
       " 'norway',\n",
       " 'japan',\n",
       " 'croatia',\n",
       " 'nigeria',\n",
       " 'south korea',\n",
       " 'slovakia',\n",
       " 'czech republic',\n",
       " 'russia',\n",
       " 'yugoslavia',\n",
       " 'hong kong',\n",
       " 'costa rica',\n",
       " 'taiwan',\n",
       " 'slovenia']"
      ]
     },
     "execution_count": 8,
     "metadata": {},
     "output_type": "execute_result"
    }
   ],
   "execution_count": 8
  },
  {
   "metadata": {
    "ExecuteTime": {
     "end_time": "2024-06-24T19:18:26.608828Z",
     "start_time": "2024-06-24T19:18:26.604526Z"
    }
   },
   "cell_type": "code",
   "source": [
    "popular_countries.remove(\"\")\n",
    "popular_countries"
   ],
   "id": "b4fd27ab02bda2d7",
   "outputs": [
    {
     "data": {
      "text/plain": [
       "['usa',\n",
       " 'canada',\n",
       " 'united kingdom',\n",
       " 'germany',\n",
       " 'spain',\n",
       " 'australia',\n",
       " 'italy',\n",
       " 'france',\n",
       " 'portugal',\n",
       " 'new zealand',\n",
       " 'netherlands',\n",
       " 'switzerland',\n",
       " 'brazil',\n",
       " 'china',\n",
       " 'sweden',\n",
       " 'india',\n",
       " 'austria',\n",
       " 'malaysia',\n",
       " 'argentina',\n",
       " 'singapore',\n",
       " 'finland',\n",
       " 'mexico',\n",
       " 'belgium',\n",
       " 'denmark',\n",
       " 'ireland',\n",
       " 'philippines',\n",
       " 'turkey',\n",
       " 'poland',\n",
       " 'pakistan',\n",
       " 'greece',\n",
       " 'iran',\n",
       " 'chile',\n",
       " 'romania',\n",
       " 'israel',\n",
       " 'south africa',\n",
       " 'indonesia',\n",
       " 'norway',\n",
       " 'japan',\n",
       " 'croatia',\n",
       " 'nigeria',\n",
       " 'south korea',\n",
       " 'slovakia',\n",
       " 'czech republic',\n",
       " 'russia',\n",
       " 'yugoslavia',\n",
       " 'hong kong',\n",
       " 'costa rica',\n",
       " 'taiwan',\n",
       " 'slovenia']"
      ]
     },
     "execution_count": 9,
     "metadata": {},
     "output_type": "execute_result"
    }
   ],
   "execution_count": 9
  },
  {
   "metadata": {
    "ExecuteTime": {
     "end_time": "2024-06-24T19:18:26.647143Z",
     "start_time": "2024-06-24T19:18:26.609843Z"
    }
   },
   "cell_type": "code",
   "source": "df['Country'] = df['Country'].apply(lambda x: x if x in popular_countries else 'other')",
   "id": "57f794662e3e0060",
   "outputs": [],
   "execution_count": 10
  },
  {
   "metadata": {
    "ExecuteTime": {
     "end_time": "2024-06-24T19:18:26.661989Z",
     "start_time": "2024-06-24T19:18:26.648160Z"
    }
   },
   "cell_type": "code",
   "source": "df['Country'].value_counts()",
   "id": "a79869ba59c831c",
   "outputs": [
    {
     "data": {
      "text/plain": [
       "Country\n",
       "usa               139711\n",
       "canada             21658\n",
       "united kingdom     18538\n",
       "germany            17043\n",
       "spain              13147\n",
       "australia          11784\n",
       "italy              11266\n",
       "other               9490\n",
       "france              3455\n",
       "portugal            3325\n",
       "new zealand         3097\n",
       "netherlands         3025\n",
       "switzerland         1745\n",
       "brazil              1674\n",
       "china               1488\n",
       "sweden              1406\n",
       "india               1290\n",
       "austria             1136\n",
       "malaysia            1119\n",
       "argentina           1083\n",
       "singapore            925\n",
       "finland              923\n",
       "mexico               840\n",
       "belgium              819\n",
       "denmark              805\n",
       "ireland              753\n",
       "philippines          743\n",
       "turkey               490\n",
       "poland               454\n",
       "pakistan             442\n",
       "greece               421\n",
       "iran                 396\n",
       "romania              357\n",
       "chile                357\n",
       "israel               345\n",
       "south africa         330\n",
       "indonesia            305\n",
       "norway               289\n",
       "japan                272\n",
       "croatia              246\n",
       "nigeria              229\n",
       "south korea          224\n",
       "slovakia             214\n",
       "czech republic       199\n",
       "yugoslavia           178\n",
       "russia               178\n",
       "hong kong            170\n",
       "costa rica           166\n",
       "taiwan               166\n",
       "slovenia             142\n",
       "Name: count, dtype: int64"
      ]
     },
     "execution_count": 11,
     "metadata": {},
     "output_type": "execute_result"
    }
   ],
   "execution_count": 11
  },
  {
   "metadata": {
    "ExecuteTime": {
     "end_time": "2024-06-24T19:18:26.781718Z",
     "start_time": "2024-06-24T19:18:26.661989Z"
    }
   },
   "cell_type": "code",
   "source": [
    "df[\"Age\"].hist(bins=50)\n",
    "plt.show()"
   ],
   "id": "49c80f81f07d5605",
   "outputs": [
    {
     "data": {
      "text/plain": [
       "<Figure size 640x480 with 1 Axes>"
      ],
      "image/png": "[encoded data removed]"
     },
     "metadata": {},
     "output_type": "display_data"
    }
   ],
   "execution_count": 12
  },
  {
   "metadata": {
    "ExecuteTime": {
     "end_time": "2024-06-24T19:18:26.827199Z",
     "start_time": "2024-06-24T19:18:26.781718Z"
    }
   },
   "cell_type": "code",
   "source": "df['Age'] = df['Age'].apply(lambda x: x if x > 3 and x < 110 else pd.NA)",
   "id": "caa1cd7f0b0b00ce",
   "outputs": [],
   "execution_count": 13
  },
  {
   "metadata": {
    "ExecuteTime": {
     "end_time": "2024-06-24T19:18:26.941204Z",
     "start_time": "2024-06-24T19:18:26.829220Z"
    }
   },
   "cell_type": "code",
   "source": [
    "df[\"Age\"].hist(bins=50)\n",
    "plt.show()"
   ],
   "id": "925e524723b7858e",
   "outputs": [
    {
     "data": {
      "text/plain": [
       "<Figure size 640x480 with 1 Axes>"
      ],
      "image/png": "[encoded data removed]"
     },
     "metadata": {},
     "output_type": "display_data"
    }
   ],
   "execution_count": 14
  },
  {
   "metadata": {
    "ExecuteTime": {
     "end_time": "2024-06-24T19:19:02.001078Z",
     "start_time": "2024-06-24T19:19:01.994386Z"
    }
   },
   "cell_type": "code",
   "source": "df",
   "id": "df0bddd28bc8d1e9",
   "outputs": [
    {
     "data": {
      "text/plain": [
       "        User-ID                            Location   Age         Country\n",
       "0             1                  nyc, new york, usa  <NA>             usa\n",
       "1             2           stockton, california, usa  18.0             usa\n",
       "2             3     moscow, yukon territory, russia  <NA>          russia\n",
       "3             4           porto, v.n.gaia, portugal  17.0        portugal\n",
       "4             5  farnborough, hants, united kingdom  <NA>  united kingdom\n",
       "...         ...                                 ...   ...             ...\n",
       "278853   278854               portland, oregon, usa  <NA>             usa\n",
       "278854   278855  tacoma, washington, united kingdom  50.0  united kingdom\n",
       "278855   278856           brampton, ontario, canada  <NA>          canada\n",
       "278856   278857           knoxville, tennessee, usa  <NA>             usa\n",
       "278857   278858                dublin, n/a, ireland  <NA>         ireland\n",
       "\n",
       "[278858 rows x 4 columns]"
      ],
      "text/html": [
       "<div>\n",
       "<style scoped>\n",
       "    .dataframe tbody tr th:only-of-type {\n",
       "        vertical-align: middle;\n",
       "    }\n",
       "\n",
       "    .dataframe tbody tr th {\n",
       "        vertical-align: top;\n",
       "    }\n",
       "\n",
       "    .dataframe thead th {\n",
       "        text-align: right;\n",
       "    }\n",
       "</style>\n",
       "<table border=\"1\" class=\"dataframe\">\n",
       "  <thead>\n",
       "    <tr style=\"text-align: right;\">\n",
       "      <th></th>\n",
       "      <th>User-ID</th>\n",
       "      <th>Location</th>\n",
       "      <th>Age</th>\n",
       "      <th>Country</th>\n",
       "    </tr>\n",
       "  </thead>\n",
       "  <tbody>\n",
       "    <tr>\n",
       "      <th>0</th>\n",
       "      <td>1</td>\n",
       "      <td>nyc, new york, usa</td>\n",
       "      <td>&lt;NA&gt;</td>\n",
       "      <td>usa</td>\n",
       "    </tr>\n",
       "    <tr>\n",
       "      <th>1</th>\n",
       "      <td>2</td>\n",
       "      <td>stockton, california, usa</td>\n",
       "      <td>18.0</td>\n",
       "      <td>usa</td>\n",
       "    </tr>\n",
       "    <tr>\n",
       "      <th>2</th>\n",
       "      <td>3</td>\n",
       "      <td>moscow, yukon territory, russia</td>\n",
       "      <td>&lt;NA&gt;</td>\n",
       "      <td>russia</td>\n",
       "    </tr>\n",
       "    <tr>\n",
       "      <th>3</th>\n",
       "      <td>4</td>\n",
       "      <td>porto, v.n.gaia, portugal</td>\n",
       "      <td>17.0</td>\n",
       "      <td>portugal</td>\n",
       "    </tr>\n",
       "    <tr>\n",
       "      <th>4</th>\n",
       "      <td>5</td>\n",
       "      <td>farnborough, hants, united kingdom</td>\n",
       "      <td>&lt;NA&gt;</td>\n",
       "      <td>united kingdom</td>\n",
       "    </tr>\n",
       "    <tr>\n",
       "      <th>...</th>\n",
       "      <td>...</td>\n",
       "      <td>...</td>\n",
       "      <td>...</td>\n",
       "      <td>...</td>\n",
       "    </tr>\n",
       "    <tr>\n",
       "      <th>278853</th>\n",
       "      <td>278854</td>\n",
       "      <td>portland, oregon, usa</td>\n",
       "      <td>&lt;NA&gt;</td>\n",
       "      <td>usa</td>\n",
       "    </tr>\n",
       "    <tr>\n",
       "      <th>278854</th>\n",
       "      <td>278855</td>\n",
       "      <td>tacoma, washington, united kingdom</td>\n",
       "      <td>50.0</td>\n",
       "      <td>united kingdom</td>\n",
       "    </tr>\n",
       "    <tr>\n",
       "      <th>278855</th>\n",
       "      <td>278856</td>\n",
       "      <td>brampton, ontario, canada</td>\n",
       "      <td>&lt;NA&gt;</td>\n",
       "      <td>canada</td>\n",
       "    </tr>\n",
       "    <tr>\n",
       "      <th>278856</th>\n",
       "      <td>278857</td>\n",
       "      <td>knoxville, tennessee, usa</td>\n",
       "      <td>&lt;NA&gt;</td>\n",
       "      <td>usa</td>\n",
       "    </tr>\n",
       "    <tr>\n",
       "      <th>278857</th>\n",
       "      <td>278858</td>\n",
       "      <td>dublin, n/a, ireland</td>\n",
       "      <td>&lt;NA&gt;</td>\n",
       "      <td>ireland</td>\n",
       "    </tr>\n",
       "  </tbody>\n",
       "</table>\n",
       "<p>278858 rows × 4 columns</p>\n",
       "</div>"
      ]
     },
     "execution_count": 15,
     "metadata": {},
     "output_type": "execute_result"
    }
   ],
   "execution_count": 15
  },
  {
   "metadata": {
    "ExecuteTime": {
     "end_time": "2024-06-24T19:20:20.637156Z",
     "start_time": "2024-06-24T19:20:20.375308Z"
    }
   },
   "cell_type": "code",
   "source": "df.to_csv(\"data/processed_users.csv\", index=False)",
   "id": "53ac67fdb465aabc",
   "outputs": [],
   "execution_count": 16
  }
 ],
 "metadata": {
  "kernelspec": {
   "display_name": "Python 3",
   "language": "python",
   "name": "python3"
  },
  "language_info": {
   "codemirror_mode": {
    "name": "ipython",
    "version": 2
   },
   "file_extension": ".py",
   "mimetype": "text/x-python",
   "name": "python",
   "nbconvert_exporter": "python",
   "pygments_lexer": "ipython2",
   "version": "2.7.6"
  }
 },
 "nbformat": 4,
 "nbformat_minor": 5
}
